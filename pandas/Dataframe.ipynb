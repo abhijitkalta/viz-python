{
 "cells": [
  {
   "cell_type": "code",
   "execution_count": 1,
   "id": "238c49e4-1bc0-4e51-abae-63bf8926b99c",
   "metadata": {},
   "outputs": [],
   "source": [
    "import numpy as np\n",
    "import pandas as pd"
   ]
  },
  {
   "cell_type": "code",
   "execution_count": 6,
   "id": "4a61fcf0-8b48-4350-8d3f-3c517866cfb2",
   "metadata": {},
   "outputs": [],
   "source": [
    "mydata = ['USA', 'Canada', 'Mexico']\n",
    "myindex = [111, 121, 131]"
   ]
  },
  {
   "cell_type": "code",
   "execution_count": 7,
   "id": "8de37274-09dc-4134-95fa-d78823c6efbb",
   "metadata": {},
   "outputs": [],
   "source": [
    "myser = pd.Series(data = mydata, index = myindex)"
   ]
  },
  {
   "cell_type": "code",
   "execution_count": 8,
   "id": "057cb062-e7d9-4418-991a-d632891998a1",
   "metadata": {},
   "outputs": [
    {
     "data": {
      "text/plain": [
       "'Canada'"
      ]
     },
     "execution_count": 8,
     "metadata": {},
     "output_type": "execute_result"
    }
   ],
   "source": [
    "myser[121]"
   ]
  },
  {
   "cell_type": "code",
   "execution_count": 9,
   "id": "26587b78-90ab-4c8b-9a22-0707fb8142d8",
   "metadata": {},
   "outputs": [],
   "source": [
    "ages = {'Sam': 5, 'Frank': 6}\n",
    "ages_series = pd.Series(ages)"
   ]
  },
  {
   "cell_type": "code",
   "execution_count": 12,
   "id": "2818385b-9070-48ce-b1c8-de81e0ef0075",
   "metadata": {},
   "outputs": [
    {
     "data": {
      "text/plain": [
       "5"
      ]
     },
     "execution_count": 12,
     "metadata": {},
     "output_type": "execute_result"
    }
   ],
   "source": [
    "ages_series['Sam']"
   ]
  },
  {
   "cell_type": "code",
   "execution_count": 14,
   "id": "c97c8c8b-936a-44bd-b78b-27a542e799fd",
   "metadata": {},
   "outputs": [],
   "source": [
    "# Dataframes\n",
    "\n",
    "np.random.seed(101)\n",
    "mydata = np.random.randint(0, 101, (4, 3))"
   ]
  },
  {
   "cell_type": "code",
   "execution_count": 17,
   "id": "13fb1172-5586-493c-bb58-739dd030d7dd",
   "metadata": {},
   "outputs": [
    {
     "data": {
      "text/html": [
       "<div>\n",
       "<style scoped>\n",
       "    .dataframe tbody tr th:only-of-type {\n",
       "        vertical-align: middle;\n",
       "    }\n",
       "\n",
       "    .dataframe tbody tr th {\n",
       "        vertical-align: top;\n",
       "    }\n",
       "\n",
       "    .dataframe thead th {\n",
       "        text-align: right;\n",
       "    }\n",
       "</style>\n",
       "<table border=\"1\" class=\"dataframe\">\n",
       "  <thead>\n",
       "    <tr style=\"text-align: right;\">\n",
       "      <th></th>\n",
       "      <th>Jan</th>\n",
       "      <th>Feb</th>\n",
       "      <th>Mar</th>\n",
       "    </tr>\n",
       "  </thead>\n",
       "  <tbody>\n",
       "    <tr>\n",
       "      <th>ca</th>\n",
       "      <td>95</td>\n",
       "      <td>11</td>\n",
       "      <td>81</td>\n",
       "    </tr>\n",
       "    <tr>\n",
       "      <th>ny</th>\n",
       "      <td>70</td>\n",
       "      <td>63</td>\n",
       "      <td>87</td>\n",
       "    </tr>\n",
       "    <tr>\n",
       "      <th>az</th>\n",
       "      <td>75</td>\n",
       "      <td>9</td>\n",
       "      <td>77</td>\n",
       "    </tr>\n",
       "    <tr>\n",
       "      <th>tx</th>\n",
       "      <td>40</td>\n",
       "      <td>4</td>\n",
       "      <td>63</td>\n",
       "    </tr>\n",
       "  </tbody>\n",
       "</table>\n",
       "</div>"
      ],
      "text/plain": [
       "    Jan  Feb  Mar\n",
       "ca   95   11   81\n",
       "ny   70   63   87\n",
       "az   75    9   77\n",
       "tx   40    4   63"
      ]
     },
     "execution_count": 17,
     "metadata": {},
     "output_type": "execute_result"
    }
   ],
   "source": [
    "myindex = ['ca', 'ny', 'az', 'tx']\n",
    "mycolumns = ['Jan', 'Feb', 'Mar']\n",
    "df = pd.DataFrame(data = mydata, index = myindex, columns = mycolumns)\n",
    "df"
   ]
  },
  {
   "cell_type": "code",
   "execution_count": 18,
   "id": "aeabe8a8-40c8-4cfc-95eb-3a4fca7b54da",
   "metadata": {},
   "outputs": [
    {
     "name": "stdout",
     "output_type": "stream",
     "text": [
      "<class 'pandas.core.frame.DataFrame'>\n",
      "Index: 4 entries, ca to tx\n",
      "Data columns (total 3 columns):\n",
      " #   Column  Non-Null Count  Dtype\n",
      "---  ------  --------------  -----\n",
      " 0   Jan     4 non-null      int64\n",
      " 1   Feb     4 non-null      int64\n",
      " 2   Mar     4 non-null      int64\n",
      "dtypes: int64(3)\n",
      "memory usage: 128.0+ bytes\n"
     ]
    }
   ],
   "source": [
    "df.info()"
   ]
  },
  {
   "cell_type": "code",
   "execution_count": null,
   "id": "af427774-4afd-4738-be5b-87663f8c5fcf",
   "metadata": {},
   "outputs": [],
   "source": []
  }
 ],
 "metadata": {
  "kernelspec": {
   "display_name": "Python 3 (ipykernel)",
   "language": "python",
   "name": "python3"
  },
  "language_info": {
   "codemirror_mode": {
    "name": "ipython",
    "version": 3
   },
   "file_extension": ".py",
   "mimetype": "text/x-python",
   "name": "python",
   "nbconvert_exporter": "python",
   "pygments_lexer": "ipython3",
   "version": "3.9.7"
  }
 },
 "nbformat": 4,
 "nbformat_minor": 5
}
